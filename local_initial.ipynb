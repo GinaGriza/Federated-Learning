{
 "cells": [
  {
   "cell_type": "markdown",
   "metadata": {},
   "source": [
    "Import libraries and extensions"
   ]
  },
  {
   "cell_type": "code",
   "execution_count": 4,
   "metadata": {},
   "outputs": [
    {
     "name": "stdout",
     "output_type": "stream",
     "text": [
      "2.5.0\n",
      "Num GPUs available:  0\n"
     ]
    }
   ],
   "source": [
    "import tensorflow as tf\n",
    "\n",
    "config = tf.compat.v1.ConfigProto(gpu_options=tf.compat.v1.GPUOptions(allow_growth=True))\n",
    "sess = tf.compat.v1.Session(config=config)\n",
    "print(tf.__version__)\n",
    "print('Num GPUs available: ', len(tf.config.list_physical_devices('GPU')))\n",
    "\n",
    "import numpy as np\n",
    "import os\n",
    "import pickle\n",
    "\n",
    "from tensorflow import keras\n",
    "from tensorflow.keras.callbacks import TensorBoard\n",
    "from tensorflow.keras.layers import Dense,GlobalAveragePooling2D\n",
    "from tensorflow.keras.layers import Dense,GlobalMaxPooling2D,MaxPool2D\n",
    "from tensorflow.keras.applications import MobileNet\n",
    "from tensorflow.keras.applications import VGG16\n",
    "from tensorflow.keras.preprocessing import image\n",
    "from tensorflow.keras.applications.mobilenet import preprocess_input\n",
    "from tensorflow.keras.preprocessing.image import ImageDataGenerator\n",
    "from tensorflow.keras.models import Model\n",
    "from tensorflow.keras.optimizers import Adam,SGD\n",
    "from tensorflow.keras.models import load_model\n",
    "from tensorflow.keras.applications.inception_v3 import InceptionV3\n",
    "from tensorflow.keras.utils import to_categorical\n",
    "from tensorflow.keras.layers import Conv2D, MaxPooling2D, Flatten, Dense, Dropout, InputLayer\n",
    "from tensorflow.keras.models import Sequential\n",
    "from tensorflow.keras import optimizers"
   ]
  },
  {
   "cell_type": "markdown",
   "metadata": {},
   "source": [
    "Import the image datasets for this institution. Each institution's dataset has already been split, so there are three folders of images in the institution directory: training sequence, testing sequence, and validation sequence. The validation sequence is not needed at this point.\n",
    "\n",
    "Each sequence directory has two folders which represent the two labels, Patient and Other. The ImageDataGenerator converts the images into a binary-labelled dataset that the model can use. "
   ]
  },
  {
   "cell_type": "code",
   "execution_count": 5,
   "metadata": {},
   "outputs": [
    {
     "name": "stdout",
     "output_type": "stream",
     "text": [
      "Found 43374 images belonging to 2 classes.\n",
      "Found 21361 images belonging to 2 classes.\n",
      "Found 10790 images belonging to 2 classes.\n"
     ]
    }
   ],
   "source": [
    "data_dir = r'C:Documents\\Institution_X'\n",
    "train_dir = os.path.join(data_dir, 'train_seq')\n",
    "test_dir = os.path.join(data_dir, 'test_seq')\n",
    "\n",
    "batch_size = 32\n",
    "input_shape = (224, 224, 3)\n",
    "\n",
    "# create data generators\n",
    "train_datagen = ImageDataGenerator(rescale=1./255, horizontal_flip = True)\n",
    "test_datagen = ImageDataGenerator(rescale=1./255, horizontal_flip = True)\n",
    "\n",
    "train_generator = train_datagen.flow_from_directory(train_dir, class_mode='binary', batch_size=batch_size,target_size = (224, 224))\n",
    "test_generator = test_datagen.flow_from_directory(test_dir, class_mode='binary', batch_size=batch_size,target_size=(224, 224))\n"
   ]
  },
  {
   "cell_type": "markdown",
   "metadata": {},
   "source": [
    "Function to construct the VGG16 Convolutional Neural Network (CNN) with our layer alterations."
   ]
  },
  {
   "cell_type": "code",
   "execution_count": 6,
   "metadata": {},
   "outputs": [],
   "source": [
    "def create_model(input_shape):\n",
    "\n",
    "    #import the mobilenet model and discard the last 1000 neuron layer.\n",
    "    base_model=VGG16(weights='imagenet',include_top=False,input_shape=input_shape)\n",
    "\n",
    "    #we add dense layers so that the model can learn more complex functions and classify for better results.\n",
    "    x=base_model.output\n",
    "    x=keras.layers.GlobalMaxPooling2D()(x)\n",
    "    x=keras.layers.Dense(1024,activation='relu')(x) \n",
    "    x=keras.layers.Dense(1024,activation='relu')(x)\n",
    "    x=keras.layers.Dropout(0.25)(x)\n",
    "    x=keras.layers.Dense(1024,activation='relu')(x) #dense layer 2\n",
    "    x=keras.layers.Dense(512,activation='relu')(x) #dense layer 3\n",
    "    preds=keras.layers.Dense(1,activation='sigmoid')(x) #final layer with sigmoid activation function\n",
    "    \n",
    "    model=keras.Model(inputs=base_model.input,outputs=preds)\n",
    "    model.trainable = True\n",
    "\n",
    "    # We want to set the first 20 layers of the network to be non-trainable\n",
    "    for layer in model.layers[:16]:\n",
    "        layer.trainable=False\n",
    "    for layer in model.layers[16:]:\n",
    "        layer.trainable=True\n",
    "\n",
    "    return model"
   ]
  },
  {
   "cell_type": "markdown",
   "metadata": {},
   "source": [
    "Function for tuning the parameters and initialize, fit, and compile the CNN model. The function is passed the constructed model from create_model, the directory where the model weights will be saved, and the directory for where the training history will be saved."
   ]
  },
  {
   "cell_type": "code",
   "execution_count": 7,
   "metadata": {},
   "outputs": [],
   "source": [
    "def fit_model(model,base_weights_dir,train_history_dir):\n",
    "    \n",
    "    steps_per_epoch = int(len(train_generator))\n",
    "    validation_steps = int(len(test_generator))\n",
    "\n",
    "    checkpointer = keras.callbacks.ModelCheckpoint(base_weights_dir, monitor='val_accuracy',mode='max',save_best_only=True, save_weights_only=True)\n",
    "\n",
    "    adam = Adam(learning_rate=0.001, beta_1=0.9, beta_2=0.999, epsilon=1e-08, decay=0.0)\n",
    "    model.compile(loss='binary_crossentropy', optimizer=adam, metrics=['accuracy',keras.metrics.Recall(),keras.metrics.Precision()])\n",
    "    reduce_lr_loss = keras.callbacks.ReduceLROnPlateau(monitor='val_accuracy', factor=0.1, patience=5, verbose=1, min_delta=1e-4, mode='max')\n",
    "    earlyStopping = keras.callbacks.EarlyStopping(monitor='val_accuracy', patience=50, verbose=0, mode='max')\n",
    "\n",
    "    tensorboard_callback = TensorBoard(log_dir=r'C:\\Documents\\initial\\experiment\\Institution_X')\n",
    "    \n",
    "    history = model.fit_generator(\n",
    "                train_generator,\n",
    "                steps_per_epoch=steps_per_epoch,\n",
    "                epochs = 100,\n",
    "                validation_data=test_generator,\n",
    "                validation_steps=validation_steps,\n",
    "                verbose=1,\n",
    "                callbacks=[checkpointer,reduce_lr_loss,earlyStopping,tensorboard_callback]\n",
    "\n",
    "            )\n",
    "\n",
    "\n",
    "     with open(train_history_dir, 'wb') as file_pi:\n",
    "        pickle.dump(history.history, file_pi)\n",
    "\n",
    "    return history\n",
    "\n"
   ]
  },
  {
   "cell_type": "markdown",
   "metadata": {},
   "source": [
    "Call the functions to construct and fit the model."
   ]
  },
  {
   "cell_type": "code",
   "execution_count": 8,
   "metadata": {
    "scrolled": false
   },
   "outputs": [
    {
     "name": "stderr",
     "output_type": "stream",
     "text": [
      "C:\\Users\\IGRIZA\\AppData\\Roaming\\Python\\Python38\\site-packages\\tensorflow\\python\\keras\\engine\\training.py:1940: UserWarning: `Model.fit_generator` is deprecated and will be removed in a future version. Please use `Model.fit`, which supports generators.\n",
      "  warnings.warn('`Model.fit_generator` is deprecated and '\n"
     ]
    },
    {
     "name": "stdout",
     "output_type": "stream",
     "text": [
      "Epoch 1/100\n",
      "1356/1356 [==============================] - 6567s 5s/step - loss: 0.3272 - accuracy: 0.8730 - recall: 0.4612 - precision: 0.8429 - val_loss: 0.4304 - val_accuracy: 0.8062 - val_recall: 0.5094 - val_precision: 0.7009\n",
      "Epoch 2/100\n",
      "1356/1356 [==============================] - 6569s 5s/step - loss: 0.2439 - accuracy: 0.9057 - recall: 0.6608 - precision: 0.8411 - val_loss: 0.5639 - val_accuracy: 0.7991 - val_recall: 0.4655 - val_precision: 0.7003\n",
      "Epoch 3/100\n",
      "1356/1356 [==============================] - 6573s 5s/step - loss: 0.2122 - accuracy: 0.9167 - recall: 0.7175 - precision: 0.8494 - val_loss: 0.6671 - val_accuracy: 0.7894 - val_recall: 0.5549 - val_precision: 0.6313\n",
      "Epoch 4/100\n",
      "1356/1356 [==============================] - 6544s 5s/step - loss: 0.1847 - accuracy: 0.9252 - recall: 0.7572 - precision: 0.8583 - val_loss: 0.7461 - val_accuracy: 0.7490 - val_recall: 0.6460 - val_precision: 0.5344\n",
      "Epoch 5/100\n",
      "1356/1356 [==============================] - 6518s 5s/step - loss: 0.1669 - accuracy: 0.9305 - recall: 0.7805 - precision: 0.8642 - val_loss: 0.6901 - val_accuracy: 0.8038 - val_recall: 0.4889 - val_precision: 0.7042\n",
      "Epoch 6/100\n",
      "1356/1356 [==============================] - 6499s 5s/step - loss: 0.1543 - accuracy: 0.9372 - recall: 0.7973 - precision: 0.8822 - val_loss: 1.0479 - val_accuracy: 0.8014 - val_recall: 0.5101 - val_precision: 0.6840\n",
      "\n",
      "Epoch 00006: ReduceLROnPlateau reducing learning rate to 0.00010000000474974513.\n",
      "Epoch 7/100\n",
      "1356/1356 [==============================] - 6501s 5s/step - loss: 0.1059 - accuracy: 0.9556 - recall: 0.8657 - precision: 0.9116 - val_loss: 1.2234 - val_accuracy: 0.7878 - val_recall: 0.5699 - val_precision: 0.6229\n",
      "Epoch 8/100\n",
      "1356/1356 [==============================] - 6495s 5s/step - loss: 0.0910 - accuracy: 0.9629 - recall: 0.8916 - precision: 0.9231 - val_loss: 1.3126 - val_accuracy: 0.7723 - val_recall: 0.5846 - val_precision: 0.5841\n",
      "Epoch 9/100\n",
      "1356/1356 [==============================] - 6982s 5s/step - loss: 0.0836 - accuracy: 0.9663 - recall: 0.9021 - precision: 0.9300 - val_loss: 1.5061 - val_accuracy: 0.7851 - val_recall: 0.5479 - val_precision: 0.6221\n",
      "Epoch 10/100\n",
      "1356/1356 [==============================] - 7119s 5s/step - loss: 0.0769 - accuracy: 0.9687 - recall: 0.9062 - precision: 0.9378 - val_loss: 1.6685 - val_accuracy: 0.7874 - val_recall: 0.5475 - val_precision: 0.6281\n",
      "Epoch 11/100\n",
      "1356/1356 [==============================] - 7123s 5s/step - loss: 0.0737 - accuracy: 0.9711 - recall: 0.9185 - precision: 0.9380 - val_loss: 1.6254 - val_accuracy: 0.7743 - val_recall: 0.5713 - val_precision: 0.5908\n",
      "\n",
      "Epoch 00011: ReduceLROnPlateau reducing learning rate to 1.0000000474974514e-05.\n",
      "Epoch 12/100\n",
      "1356/1356 [==============================] - 7145s 5s/step - loss: 0.0655 - accuracy: 0.9739 - recall: 0.9279 - precision: 0.9426 - val_loss: 1.8226 - val_accuracy: 0.7788 - val_recall: 0.5525 - val_precision: 0.6052\n",
      "Epoch 13/100\n",
      "1356/1356 [==============================] - 7226s 5s/step - loss: 0.0621 - accuracy: 0.9754 - recall: 0.9288 - precision: 0.9493 - val_loss: 1.8669 - val_accuracy: 0.7851 - val_recall: 0.5547 - val_precision: 0.6201\n",
      "Epoch 14/100\n",
      "1356/1356 [==============================] - 7211s 5s/step - loss: 0.0619 - accuracy: 0.9764 - recall: 0.9309 - precision: 0.9520 - val_loss: 1.9238 - val_accuracy: 0.7799 - val_recall: 0.5383 - val_precision: 0.6114\n",
      "Epoch 15/100\n",
      "1356/1356 [==============================] - 7157s 5s/step - loss: 0.0597 - accuracy: 0.9769 - recall: 0.9313 - precision: 0.9538 - val_loss: 1.9492 - val_accuracy: 0.7818 - val_recall: 0.5506 - val_precision: 0.6129\n",
      "Epoch 16/100\n",
      "1356/1356 [==============================] - 7173s 5s/step - loss: 0.0598 - accuracy: 0.9769 - recall: 0.9323 - precision: 0.9533 - val_loss: 1.9546 - val_accuracy: 0.7818 - val_recall: 0.5492 - val_precision: 0.6134\n",
      "\n",
      "Epoch 00016: ReduceLROnPlateau reducing learning rate to 1.0000000656873453e-06.\n",
      "Epoch 17/100\n",
      "1356/1356 [==============================] - 7153s 5s/step - loss: 0.0587 - accuracy: 0.9773 - recall: 0.9339 - precision: 0.9533 - val_loss: 1.9755 - val_accuracy: 0.7804 - val_recall: 0.5484 - val_precision: 0.6102\n",
      "Epoch 18/100\n",
      "1356/1356 [==============================] - 7151s 5s/step - loss: 0.0585 - accuracy: 0.9779 - recall: 0.9342 - precision: 0.9562 - val_loss: 1.9480 - val_accuracy: 0.7831 - val_recall: 0.5518 - val_precision: 0.6158\n",
      "Epoch 19/100\n",
      "1356/1356 [==============================] - 7177s 5s/step - loss: 0.0584 - accuracy: 0.9778 - recall: 0.9358 - precision: 0.9543 - val_loss: 1.9538 - val_accuracy: 0.7834 - val_recall: 0.5498 - val_precision: 0.6173\n",
      "Epoch 20/100\n",
      "1356/1356 [==============================] - 7161s 5s/step - loss: 0.0583 - accuracy: 0.9779 - recall: 0.9346 - precision: 0.9559 - val_loss: 1.9622 - val_accuracy: 0.7818 - val_recall: 0.5487 - val_precision: 0.6133\n",
      "Epoch 21/100\n",
      "1356/1356 [==============================] - 7168s 5s/step - loss: 0.0591 - accuracy: 0.9772 - recall: 0.9326 - precision: 0.9543 - val_loss: 2.0167 - val_accuracy: 0.7781 - val_recall: 0.5436 - val_precision: 0.6055\n",
      "\n",
      "Epoch 00021: ReduceLROnPlateau reducing learning rate to 1.0000001111620805e-07.\n",
      "Epoch 22/100\n",
      "1356/1356 [==============================] - 7146s 5s/step - loss: 0.0577 - accuracy: 0.9779 - recall: 0.9365 - precision: 0.9540 - val_loss: 1.9770 - val_accuracy: 0.7834 - val_recall: 0.5489 - val_precision: 0.6175\n",
      "Epoch 23/100\n",
      "1356/1356 [==============================] - 7120s 5s/step - loss: 0.0585 - accuracy: 0.9779 - recall: 0.9357 - precision: 0.9546 - val_loss: 1.9785 - val_accuracy: 0.7822 - val_recall: 0.5450 - val_precision: 0.6155\n",
      "Epoch 24/100\n",
      "1356/1356 [==============================] - 7151s 5s/step - loss: 0.0580 - accuracy: 0.9783 - recall: 0.9359 - precision: 0.9565 - val_loss: 1.9837 - val_accuracy: 0.7818 - val_recall: 0.5427 - val_precision: 0.6149\n",
      "Epoch 25/100\n",
      "1356/1356 [==============================] - 7098s 5s/step - loss: 0.0594 - accuracy: 0.9775 - recall: 0.9338 - precision: 0.9547 - val_loss: 1.9926 - val_accuracy: 0.7810 - val_recall: 0.5484 - val_precision: 0.6117\n",
      "Epoch 26/100\n",
      "1356/1356 [==============================] - 7122s 5s/step - loss: 0.0571 - accuracy: 0.9783 - recall: 0.9361 - precision: 0.9563 - val_loss: 1.9802 - val_accuracy: 0.7826 - val_recall: 0.5534 - val_precision: 0.6144\n",
      "\n",
      "Epoch 00026: ReduceLROnPlateau reducing learning rate to 1.000000082740371e-08.\n",
      "Epoch 27/100\n",
      "1356/1356 [==============================] - 7188s 5s/step - loss: 0.0585 - accuracy: 0.9778 - recall: 0.9360 - precision: 0.9541 - val_loss: 1.9931 - val_accuracy: 0.7810 - val_recall: 0.5489 - val_precision: 0.6113\n",
      "Epoch 28/100\n",
      "1356/1356 [==============================] - 7174s 5s/step - loss: 0.0581 - accuracy: 0.9776 - recall: 0.9333 - precision: 0.9556 - val_loss: 1.9738 - val_accuracy: 0.7797 - val_recall: 0.5481 - val_precision: 0.6085\n",
      "Epoch 29/100\n",
      "1356/1356 [==============================] - 6911s 5s/step - loss: 0.0576 - accuracy: 0.9782 - recall: 0.9374 - precision: 0.9547 - val_loss: 1.9582 - val_accuracy: 0.7814 - val_recall: 0.5451 - val_precision: 0.6133\n",
      "Epoch 30/100\n",
      "1356/1356 [==============================] - 6569s 5s/step - loss: 0.0577 - accuracy: 0.9782 - recall: 0.9359 - precision: 0.9558 - val_loss: 1.9931 - val_accuracy: 0.7815 - val_recall: 0.5470 - val_precision: 0.6131\n",
      "Epoch 31/100\n",
      "1356/1356 [==============================] - 6545s 5s/step - loss: 0.0577 - accuracy: 0.9782 - recall: 0.9360 - precision: 0.9560 - val_loss: 1.9603 - val_accuracy: 0.7832 - val_recall: 0.5523 - val_precision: 0.6162\n",
      "\n",
      "Epoch 00031: ReduceLROnPlateau reducing learning rate to 1.000000082740371e-09.\n",
      "Epoch 32/100\n",
      "1356/1356 [==============================] - 6538s 5s/step - loss: 0.0586 - accuracy: 0.9778 - recall: 0.9340 - precision: 0.9557 - val_loss: 2.0015 - val_accuracy: 0.7808 - val_recall: 0.5443 - val_precision: 0.6120\n",
      "Epoch 33/100\n",
      "1356/1356 [==============================] - 6585s 5s/step - loss: 0.0576 - accuracy: 0.9782 - recall: 0.9358 - precision: 0.9559 - val_loss: 1.9818 - val_accuracy: 0.7806 - val_recall: 0.5438 - val_precision: 0.6117\n",
      "Epoch 34/100\n",
      "1356/1356 [==============================] - 6577s 5s/step - loss: 0.0587 - accuracy: 0.9784 - recall: 0.9390 - precision: 0.9542 - val_loss: 1.9686 - val_accuracy: 0.7820 - val_recall: 0.5474 - val_precision: 0.6143\n",
      "Epoch 35/100\n",
      "1356/1356 [==============================] - 6572s 5s/step - loss: 0.0575 - accuracy: 0.9778 - recall: 0.9343 - precision: 0.9552 - val_loss: 1.9942 - val_accuracy: 0.7803 - val_recall: 0.5443 - val_precision: 0.6108\n",
      "Epoch 36/100\n",
      "1356/1356 [==============================] - 6588s 5s/step - loss: 0.0573 - accuracy: 0.9784 - recall: 0.9367 - precision: 0.9563 - val_loss: 1.9869 - val_accuracy: 0.7815 - val_recall: 0.5448 - val_precision: 0.6138\n",
      "\n",
      "Epoch 00036: ReduceLROnPlateau reducing learning rate to 1.000000082740371e-10.\n",
      "Epoch 37/100\n",
      "1356/1356 [==============================] - 6590s 5s/step - loss: 0.0581 - accuracy: 0.9781 - recall: 0.9351 - precision: 0.9563 - val_loss: 1.9779 - val_accuracy: 0.7838 - val_recall: 0.5477 - val_precision: 0.6187\n",
      "Epoch 38/100\n",
      "1356/1356 [==============================] - 6597s 5s/step - loss: 0.0583 - accuracy: 0.9778 - recall: 0.9343 - precision: 0.9557 - val_loss: 1.9804 - val_accuracy: 0.7792 - val_recall: 0.5446 - val_precision: 0.6079\n",
      "Epoch 39/100\n",
      "1356/1356 [==============================] - 6624s 5s/step - loss: 0.0589 - accuracy: 0.9773 - recall: 0.9335 - precision: 0.9537 - val_loss: 1.9717 - val_accuracy: 0.7814 - val_recall: 0.5463 - val_precision: 0.6131\n",
      "Epoch 40/100\n",
      "1356/1356 [==============================] - 6597s 5s/step - loss: 0.0569 - accuracy: 0.9779 - recall: 0.9359 - precision: 0.9544 - val_loss: 1.9913 - val_accuracy: 0.7817 - val_recall: 0.5434 - val_precision: 0.6145\n",
      "Epoch 41/100\n",
      "1356/1356 [==============================] - 6576s 5s/step - loss: 0.0570 - accuracy: 0.9782 - recall: 0.9360 - precision: 0.9557 - val_loss: 1.9839 - val_accuracy: 0.7837 - val_recall: 0.5486 - val_precision: 0.6182\n",
      "\n",
      "Epoch 00041: ReduceLROnPlateau reducing learning rate to 1.000000082740371e-11.\n",
      "Epoch 42/100\n",
      "1356/1356 [==============================] - 6557s 5s/step - loss: 0.0576 - accuracy: 0.9783 - recall: 0.9357 - precision: 0.9564 - val_loss: 1.9711 - val_accuracy: 0.7818 - val_recall: 0.5504 - val_precision: 0.6129\n",
      "Epoch 43/100\n",
      "1356/1356 [==============================] - 6586s 5s/step - loss: 0.0567 - accuracy: 0.9786 - recall: 0.9357 - precision: 0.9579 - val_loss: 1.9729 - val_accuracy: 0.7808 - val_recall: 0.5426 - val_precision: 0.6125\n",
      "Epoch 44/100\n",
      "1356/1356 [==============================] - 6581s 5s/step - loss: 0.0581 - accuracy: 0.9780 - recall: 0.9363 - precision: 0.9548 - val_loss: 1.9869 - val_accuracy: 0.7811 - val_recall: 0.5467 - val_precision: 0.6122\n",
      "Epoch 45/100\n",
      "1356/1356 [==============================] - 6610s 5s/step - loss: 0.0584 - accuracy: 0.9778 - recall: 0.9373 - precision: 0.9528 - val_loss: 1.9790 - val_accuracy: 0.7825 - val_recall: 0.5475 - val_precision: 0.6155\n",
      "Epoch 46/100\n",
      "1356/1356 [==============================] - 6608s 5s/step - loss: 0.0578 - accuracy: 0.9784 - recall: 0.9373 - precision: 0.9556 - val_loss: 1.9761 - val_accuracy: 0.7813 - val_recall: 0.5508 - val_precision: 0.6117\n",
      "\n",
      "Epoch 00046: ReduceLROnPlateau reducing learning rate to 1.000000082740371e-12.\n",
      "Epoch 47/100\n",
      "1356/1356 [==============================] - 6603s 5s/step - loss: 0.0577 - accuracy: 0.9781 - recall: 0.9350 - precision: 0.9563 - val_loss: 1.9986 - val_accuracy: 0.7809 - val_recall: 0.5481 - val_precision: 0.6113\n",
      "Epoch 48/100\n",
      "1356/1356 [==============================] - 6602s 5s/step - loss: 0.0587 - accuracy: 0.9778 - recall: 0.9347 - precision: 0.9551 - val_loss: 1.9990 - val_accuracy: 0.7798 - val_recall: 0.5450 - val_precision: 0.6095\n",
      "Epoch 49/100\n",
      "1356/1356 [==============================] - 6595s 5s/step - loss: 0.0580 - accuracy: 0.9786 - recall: 0.9368 - precision: 0.9569 - val_loss: 1.9695 - val_accuracy: 0.7818 - val_recall: 0.5470 - val_precision: 0.6139\n",
      "Epoch 50/100\n",
      "1356/1356 [==============================] - 6598s 5s/step - loss: 0.0570 - accuracy: 0.9785 - recall: 0.9380 - precision: 0.9556 - val_loss: 1.9903 - val_accuracy: 0.7817 - val_recall: 0.5458 - val_precision: 0.6138\n",
      "Epoch 51/100\n",
      "1356/1356 [==============================] - 6624s 5s/step - loss: 0.0583 - accuracy: 0.9781 - recall: 0.9347 - precision: 0.9566 - val_loss: 1.9918 - val_accuracy: 0.7803 - val_recall: 0.5453 - val_precision: 0.6107\n",
      "\n",
      "Epoch 00051: ReduceLROnPlateau reducing learning rate to 1.0000001044244145e-13.\n"
     ]
    }
   ],
   "source": [
    "#save directories\n",
    "base_weights_dir = r'C:\\Documents\\initial\\weights\\Institution_X.h5'\n",
    "train_history_dir = r'C:\\Documents\\initial\\train_history\\Institution_X.pickle'\n",
    "\n",
    "model = create_model(input_shape)\n",
    "history = fit_model(model,base_weights_dir,train_history_dir)"
   ]
  }
 ],
 "metadata": {
  "kernelspec": {
   "display_name": "Python 3 (ipykernel)",
   "language": "python",
   "name": "python3"
  },
  "language_info": {
   "codemirror_mode": {
    "name": "ipython",
    "version": 3
   },
   "file_extension": ".py",
   "mimetype": "text/x-python",
   "name": "python",
   "nbconvert_exporter": "python",
   "pygments_lexer": "ipython3",
   "version": "3.8.7"
  }
 },
 "nbformat": 4,
 "nbformat_minor": 4
}
