{
 "cells": [
  {
   "cell_type": "markdown",
   "id": "0f160326",
   "metadata": {},
   "source": [
    "Import libraries and extensions"
   ]
  },
  {
   "cell_type": "code",
   "execution_count": 1,
   "id": "b00b65c4",
   "metadata": {},
   "outputs": [
    {
     "name": "stdout",
     "output_type": "stream",
     "text": [
      "2.5.0\n",
      "Num GPUs available:  0\n"
     ]
    }
   ],
   "source": [
    "import tensorflow as tf\n",
    "\n",
    "config = tf.compat.v1.ConfigProto(gpu_options=tf.compat.v1.GPUOptions(allow_growth=True))\n",
    "sess = tf.compat.v1.Session(config=config)\n",
    "print(tf.__version__)\n",
    "print('Num GPUs available: ', len(tf.config.list_physical_devices('GPU')))\n",
    "\n",
    "import numpy as np\n",
    "import os\n",
    "import pickle\n",
    "\n",
    "from tensorflow import keras\n",
    "from tensorflow.keras.callbacks import TensorBoard\n",
    "from tensorflow.keras.layers import Dense,GlobalAveragePooling2D\n",
    "from tensorflow.keras.layers import Dense,GlobalMaxPooling2D,MaxPool2D\n",
    "from tensorflow.keras.applications import MobileNet\n",
    "from tensorflow.keras.applications import VGG16\n",
    "from tensorflow.keras.preprocessing import image\n",
    "from tensorflow.keras.applications.mobilenet import preprocess_input\n",
    "from tensorflow.keras.preprocessing.image import ImageDataGenerator\n",
    "from tensorflow.keras.models import Model\n",
    "from tensorflow.keras.optimizers import Adam,SGD\n",
    "from tensorflow.keras.models import load_model\n",
    "from tensorflow.keras.applications.inception_v3 import InceptionV3\n",
    "from tensorflow.keras.utils import to_categorical\n",
    "from tensorflow.keras.layers import Conv2D, MaxPooling2D, Flatten, Dense, Dropout, InputLayer\n",
    "from tensorflow.keras.models import Sequential\n",
    "from tensorflow.keras import optimizers"
   ]
  },
  {
   "cell_type": "markdown",
   "id": "d51b3ee7",
   "metadata": {},
   "source": [
    "Import the model to be validated, as well as the respective institution's validation dataset. Change the variables as shown in the commented lines below to perform internal or external validation on the global model with this code."
   ]
  },
  {
   "cell_type": "code",
   "execution_count": 23,
   "id": "97729ead",
   "metadata": {},
   "outputs": [
    {
     "name": "stdout",
     "output_type": "stream",
     "text": [
      "Found 10790 images belonging to 2 classes.\n"
     ]
    }
   ],
   "source": [
    "# global_weights_dir = r'C:\\Documents\\iter_Y\\Global_X.h5'\n",
    "instX_weights_dir = r'C:\\Documents\\iter_Y\\weights_directory\\Institution_X.h5'\n",
    "\n",
    "# data_dir =  r'C:\\Documents\\Institution_1'\n",
    "data_dir = r'C:\\Documents\\Institution_X'\n",
    "val_dir = os.path.join(data_dir,'valid_seq')\n",
    "\n",
    "batch_size = 32\n",
    "input_shape = (224, 224, 3)\n",
    "\n",
    "valid_datagen = ImageDataGenerator(rescale=1./255)\n",
    "\n",
    "valid_generator = valid_datagen.flow_from_directory(val_dir, class_mode='binary', batch_size=batch_size,target_size=(224, 224))\n"
   ]
  },
  {
   "cell_type": "markdown",
   "id": "738c37b4",
   "metadata": {},
   "source": [
    "Function to construct a model of the appropriate shape."
   ]
  },
  {
   "cell_type": "code",
   "execution_count": 4,
   "id": "452ed90c",
   "metadata": {},
   "outputs": [],
   "source": [
    "batch_size = 32\n",
    "input_shape = (224, 224, 3)\n",
    "\n",
    "def create_model(input_shape):\n",
    "\n",
    "    base_model=VGG16(weights=None,include_top=False,input_shape=input_shape)\n",
    "\n",
    "    x=base_model.output\n",
    "    x=keras.layers.GlobalMaxPooling2D()(x)\n",
    "    x=keras.layers.Dense(1024,activation='relu')(x)\n",
    "    x=keras.layers.Dense(1024,activation='relu')(x)\n",
    "    x=keras.layers.Dropout(0.25)(x)\n",
    "    x=keras.layers.Dense(1024,activation='relu')(x)\n",
    "    x=keras.layers.Dense(512,activation='relu')(x)\n",
    "    preds=keras.layers.Dense(1,activation='sigmoid')(x)\n",
    "    \n",
    "    model=keras.Model(inputs=base_model.input,outputs=preds)\n",
    "    model.trainable = True\n",
    "\n",
    "    for layer in model.layers[:16]:\n",
    "        layer.trainable=False\n",
    "    for layer in model.layers[16:]:\n",
    "        layer.trainable=True\n",
    "\n",
    "    return model"
   ]
  },
  {
   "cell_type": "markdown",
   "id": "d06d864a",
   "metadata": {},
   "source": [
    "Compile the model."
   ]
  },
  {
   "cell_type": "code",
   "execution_count": 8,
   "id": "f525d692",
   "metadata": {
    "scrolled": true
   },
   "outputs": [],
   "source": [
    "model = create_model(input_shape)\n",
    "model.compile(loss='binary_crossentropy', metrics=['accuracy',keras.metrics.Recall(),keras.metrics.Precision()])"
   ]
  },
  {
   "cell_type": "markdown",
   "id": "526b264a",
   "metadata": {},
   "source": [
    "Load the institution's weights into the model that was just created."
   ]
  },
  {
   "cell_type": "code",
   "execution_count": 13,
   "id": "21a63b23",
   "metadata": {},
   "outputs": [],
   "source": [
    "model.load_weights(instX_weights_dir)"
   ]
  },
  {
   "cell_type": "markdown",
   "id": "fd9c0475",
   "metadata": {},
   "source": [
    "Call the evaluate method on the model to validate it, passing the validation dataset as a parameter."
   ]
  },
  {
   "cell_type": "code",
   "execution_count": 28,
   "id": "a7bed289",
   "metadata": {
    "scrolled": true
   },
   "outputs": [
    {
     "name": "stdout",
     "output_type": "stream",
     "text": [
      "338/338 [==============================] - 1018s 3s/step - loss: 0.4780 - accuracy: 0.7405 - recall_2: 0.1251 - precision_2: 0.1027\n"
     ]
    },
    {
     "data": {
      "text/plain": [
       "[0.47800716757774353,\n",
       " 0.7405004501342773,\n",
       " 0.12508784234523773,\n",
       " 0.10271205753087997]"
      ]
     },
     "execution_count": 28,
     "metadata": {},
     "output_type": "execute_result"
    }
   ],
   "source": [
    "model.evaluate(valid_generator)"
   ]
  }
 ],
 "metadata": {
  "kernelspec": {
   "display_name": "Python 3 (ipykernel)",
   "language": "python",
   "name": "python3"
  },
  "language_info": {
   "codemirror_mode": {
    "name": "ipython",
    "version": 3
   },
   "file_extension": ".py",
   "mimetype": "text/x-python",
   "name": "python",
   "nbconvert_exporter": "python",
   "pygments_lexer": "ipython3",
   "version": "3.8.7"
  }
 },
 "nbformat": 4,
 "nbformat_minor": 5
}
